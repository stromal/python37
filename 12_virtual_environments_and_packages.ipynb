{
 "cells": [
  {
   "cell_type": "markdown",
   "metadata": {},
   "source": [
    "# [12. Virtual Environments and Packages](https://docs.python.org/3/tutorial/venv.html)"
   ]
  },
  {
   "cell_type": "raw",
   "metadata": {},
   "source": [
    "cd /Users/macbookair13/Google\\ Drive/#\\ Job/00\\ Study/Python/python_tutorial_official_3.7/venv_test"
   ]
  },
  {
   "cell_type": "markdown",
   "metadata": {},
   "source": [
    "## 12.1. Introduction\n",
    "`venv` - [virtual environment](https://docs.python.org/3/glossary.html#term-virtual-environment)\n",
    "\n",
    "storring the correct/reaquired/needed version of packages\n",
    "\n",
    "### Creating Venv\n",
    "- To create a __virtual environment__\n",
    "- decide upon a __directory__ where you want to place it\n",
    "    - create the tutorial-env directory (if it doesn’t exist)\n",
    "    - create directories:\n",
    "        - Python interpreter\n",
    "        - standard library\n",
    "        - various supporting files\n",
    "- run the __venv module__ as a script with the directory path:"
   ]
  },
  {
   "cell_type": "raw",
   "metadata": {},
   "source": [
    "python3 -m venv venv_test"
   ]
  },
  {
   "cell_type": "markdown",
   "metadata": {},
   "source": [
    "### Activate/Run\n",
    "shell Types:\n",
    "- bash -> .bat file\n",
    "- csh -> .csh file\n",
    "- fish -> .fish file"
   ]
  },
  {
   "cell_type": "raw",
   "metadata": {},
   "source": [
    "#windows\n",
    "venv_test\\Scripts\\activate.bat"
   ]
  },
  {
   "cell_type": "raw",
   "metadata": {},
   "source": [
    "#Linux & macOS\n",
    "source venv_test/bin/activate"
   ]
  },
  {
   "cell_type": "markdown",
   "metadata": {},
   "source": [
    "### After Activation\n",
    "- change your shell’s prompt \n",
    "- to show what virtual -> Wanted Python Version "
   ]
  },
  {
   "cell_type": "raw",
   "metadata": {},
   "source": [
    "$ source ~/envs/tutorial-env/bin/activate\n",
    "(tutorial-env) $ python\n",
    "Python 3.5.1 (default, May  6 2016, 10:59:36)\n",
    "  ...\n",
    "  \n",
    ">>> import sys\n",
    ">>> sys.path\n",
    "['', '/usr/local/lib/python35.zip', ...,\n",
    "'~/envs/tutorial-env/lib/python3.5/site-packages']\n",
    ">>>"
   ]
  },
  {
   "cell_type": "markdown",
   "metadata": {},
   "source": [
    "## 12.3. `pip` Managing Packager\n",
    "- mange\n",
    "- update\n",
    "- from: https://pypi.org/\n",
    "\n",
    "### Serch - package"
   ]
  },
  {
   "cell_type": "raw",
   "metadata": {},
   "source": [
    "pip search astronomy\n",
    "\n",
    "skyfield               - Elegant astronomy for Python\n",
    "gary                   - Galactic astronomy and gravitational dynamics.\n",
    "novas                  - The United States Naval Observatory NOVAS astronomy library\n",
    "astroobs               - Provides astronomy ephemeris to plan telescope observations\n",
    "PyAstronomy            - A collection of astronomy related tools for Python.\n",
    "..."
   ]
  },
  {
   "cell_type": "markdown",
   "metadata": {},
   "source": [
    "### Install - package"
   ]
  },
  {
   "cell_type": "raw",
   "metadata": {},
   "source": [
    "pip install novas\n",
    "\n",
    "Collecting novas\n",
    "  Downloading novas-3.1.1.3.tar.gz (136kB)\n",
    "Installing collected packages: novas\n",
    "  Running setup.py install for novas\n",
    "Successfully installed novas-3.1.1.3"
   ]
  },
  {
   "cell_type": "markdown",
   "metadata": {},
   "source": [
    "### Install - Specific Version of a package"
   ]
  },
  {
   "cell_type": "raw",
   "metadata": {},
   "source": [
    "pip install requests==2.6.0\n",
    "\n",
    "Collecting requests==2.6.0\n",
    "  Using cached requests-2.6.0-py2.py3-none-any.whl\n",
    "Installing collected packages: requests\n",
    "Successfully installed requests-2.6.0"
   ]
  },
  {
   "cell_type": "markdown",
   "metadata": {},
   "source": [
    "### Update - Previousely intalled packages to the latest version"
   ]
  },
  {
   "cell_type": "raw",
   "metadata": {},
   "source": [
    "pip install --upgrade requests\n",
    "\n",
    "Collecting requests\n",
    "Installing collected packages: requests\n",
    "  Found existing installation: requests 2.6.0\n",
    "    Uninstalling requests-2.6.0:\n",
    "      Successfully uninstalled requests-2.6.0\n",
    "Successfully installed requests-2.7.0"
   ]
  },
  {
   "cell_type": "markdown",
   "metadata": {},
   "source": [
    "### Uninstall - packages"
   ]
  },
  {
   "cell_type": "raw",
   "metadata": {},
   "source": [
    "pip uninstall novas\n",
    "\n",
    "Uninstalling novas-3.1.1.4:\n",
    "  Would remove:"
   ]
  },
  {
   "cell_type": "markdown",
   "metadata": {},
   "source": [
    "### Show info"
   ]
  },
  {
   "cell_type": "raw",
   "metadata": {},
   "source": [
    "pip show requests\n",
    "\n",
    "---\n",
    "Metadata-Version: 2.0\n",
    "Name: requests\n",
    "Version: 2.7.0\n",
    "Summary: Python HTTP for Humans.\n",
    "Home-page: http://python-requests.org\n",
    "Author: Kenneth Reitz\n",
    "Author-email: me@kennethreitz.com\n",
    "License: Apache 2.0\n",
    "Location: /Users/akuchling/envs/tutorial-env/lib/python3.4/site-packages\n",
    "Requires:"
   ]
  },
  {
   "cell_type": "markdown",
   "metadata": {},
   "source": [
    "### List - out all installed packages"
   ]
  },
  {
   "cell_type": "raw",
   "metadata": {},
   "source": [
    "pip list\n",
    "\n",
    "Package    Version\n",
    "---------- -------\n",
    "pip        19.0.3 \n",
    "requests   2.6.0  \n",
    "setuptools 40.8.0 "
   ]
  },
  {
   "cell_type": "markdown",
   "metadata": {},
   "source": [
    "### Requirements File Create"
   ]
  },
  {
   "cell_type": "raw",
   "metadata": {},
   "source": [
    "pip freeze > requirements.txt"
   ]
  },
  {
   "cell_type": "markdown",
   "metadata": {},
   "source": [
    "### Show - the file's contents"
   ]
  },
  {
   "cell_type": "raw",
   "metadata": {},
   "source": [
    "cat requirements.txt"
   ]
  },
  {
   "cell_type": "markdown",
   "metadata": {},
   "source": [
    "### Install packages - form .txt "
   ]
  },
  {
   "cell_type": "raw",
   "metadata": {},
   "source": [
    "pip install -r requirements.txt\n",
    "\n",
    "Collecting novas==3.1.1.3 (from -r requirements.txt (line 1))\n",
    "  ...\n",
    "Collecting numpy==1.9.2 (from -r requirements.txt (line 2))\n",
    "  ...\n",
    "Collecting requests==2.7.0 (from -r requirements.txt (line 3))\n",
    "  ...\n",
    "Installing collected packages: novas, numpy, requests\n",
    "  Running setup.py install for novas\n",
    "Successfully installed novas-3.1.1.3 numpy-1.9.2 requests-2.7.0"
   ]
  }
 ],
 "metadata": {
  "kernelspec": {
   "display_name": "Python 3",
   "language": "python",
   "name": "python3"
  },
  "language_info": {
   "codemirror_mode": {
    "name": "ipython",
    "version": 3
   },
   "file_extension": ".py",
   "mimetype": "text/x-python",
   "name": "python",
   "nbconvert_exporter": "python",
   "pygments_lexer": "ipython3",
   "version": "3.7.4"
  }
 },
 "nbformat": 4,
 "nbformat_minor": 4
}
