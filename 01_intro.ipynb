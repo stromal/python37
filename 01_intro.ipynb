{
 "cells": [
  {
   "cell_type": "markdown",
   "metadata": {},
   "source": [
    "# [ALL Base Python Modules](https://docs.python.org/3/py-modindex.html)\n",
    "\n",
    "# 4 Python Arrays\n",
    "\n",
    "# [list](https://www.w3schools.com/python/python_lists.asp)\n",
    "\n",
    "- ordered\n",
    "- changeable\n",
    "- Allows duplicate members\n",
    "\n",
    "list `thislist = [\"apple\", \"banana\", \"cherry\"]`\n",
    "\n",
    "# [set](https://www.w3schools.com/python/python_sets.asp)\n",
    "\n",
    "- unordered\n",
    "- unindexed\n",
    "- No duplicate members\n",
    "\n",
    "set `thisset = {\"apple\", \"banana\", \"cherry\"}`\n",
    "\n",
    "# [dictionary](https://docs.python.org/3/library/stdtypes.html#typesmapping) \n",
    "\n",
    "- unordered\n",
    "- changeable\n",
    "- indexed\n",
    "- No duplicate members\n",
    "\n",
    "`**name`\n",
    "\n",
    "**dictionary `dictionary = {'Sjoerd': 4127, 'Jack': 4098, 'Dcab': 8637678}`\n",
    "\n",
    "**dictionary `thisdict = {\"brand\": \"Ford\", \"model\": \"Mustang\",\"year\": 1964}`\n",
    "\n",
    "\n",
    "# [tuple](https://docs.python.org/3/tutorial/datastructures.html#tut-tuples)\n",
    "\n",
    "- ordered\n",
    "- unchangeable\n",
    "- Allows duplicate members\n",
    "\n",
    "`*name`\n",
    "\n",
    "*tuple: `t = 12345, 54321, 'hello!'`  \n",
    "\n",
    "*tuple: `thistuple = (\"apple\", \"banana\", \"cherry\")`\n",
    "\n",
    "*nested tuple: `u = ((12345, 54321, 'hello!'), (1, 2, 3, 4, 5))`"
   ]
  }
 ],
 "metadata": {
  "kernelspec": {
   "display_name": "Python 3",
   "language": "python",
   "name": "python3"
  },
  "language_info": {
   "codemirror_mode": {
    "name": "ipython",
    "version": 3
   },
   "file_extension": ".py",
   "mimetype": "text/x-python",
   "name": "python",
   "nbconvert_exporter": "python",
   "pygments_lexer": "ipython3",
   "version": "3.7.4"
  }
 },
 "nbformat": 4,
 "nbformat_minor": 4
}
