{
 "cells": [
  {
   "cell_type": "markdown",
   "metadata": {},
   "source": [
    "# [16. Appendix](https://docs.python.org/3/tutorial/appendix.html)\n",
    "## 16.1. Interactive Mode\n",
    "### 16.1.1. Error Handling\n",
    "### 16.1.2. Executable Python Scripts\n",
    "\n",
    "- Python scripts can be made directly executable ~ like shell scripts\n",
    "- (assuming that the interpreter is on the user’s PATH) at the beginning of the script and giving the file an executable mode. The #! must be the first two characters of the file. On some platforms, this first line must end with a Unix-style line ending ('\\n'), not a Windows ('\\r\\n') line ending. Note that the hash, or pound, character, '#', is used to start a comment in Python."
   ]
  },
  {
   "cell_type": "raw",
   "metadata": {},
   "source": [
    "#!/usr/bin/env python3.5"
   ]
  },
  {
   "cell_type": "markdown",
   "metadata": {},
   "source": [
    "- Windows: no notion of an “executable mode”. The Python installer automatically associates .py files with python.exe so that a double-click on a Python file will run it as a script.\n",
    "- UNIX/Linux: Script executable mode/permission:"
   ]
  },
  {
   "cell_type": "raw",
   "metadata": {},
   "source": [
    "$ chmod +x myscript.py"
   ]
  },
  {
   "cell_type": "markdown",
   "metadata": {},
   "source": [
    "### 16.1.3. Interactive Startup File\n",
    "- standard commands executed every time the interpreter is started\n",
    "- [PYTHONSTARTUP](https://docs.python.org/3/using/cmdline.html#envvar-PYTHONSTARTUP) ~ .profile feature of the Unix shells"
   ]
  },
  {
   "cell_type": "code",
   "execution_count": 348,
   "metadata": {},
   "outputs": [],
   "source": [
    "import os\n",
    "filename = os.environ.get('PYTHONSTARTUP')\n",
    "if filename and os.path.isfile(filename):\n",
    "    with open(filename) as fobj:\n",
    "        startup_file = fobj.read()\n",
    "    exec(startup_file)"
   ]
  },
  {
   "cell_type": "markdown",
   "metadata": {},
   "source": [
    "### 16.1.4. Customization Modules\n",
    "`sitecustomize`\n",
    "\n",
    "`usercustomize`"
   ]
  },
  {
   "cell_type": "markdown",
   "metadata": {},
   "source": [
    "# [Python Setup and Usage](https://docs.python.org/3/using/index.html)"
   ]
  }
 ],
 "metadata": {
  "kernelspec": {
   "display_name": "Python 3",
   "language": "python",
   "name": "python3"
  },
  "language_info": {
   "codemirror_mode": {
    "name": "ipython",
    "version": 3
   },
   "file_extension": ".py",
   "mimetype": "text/x-python",
   "name": "python",
   "nbconvert_exporter": "python",
   "pygments_lexer": "ipython3",
   "version": "3.7.4"
  }
 },
 "nbformat": 4,
 "nbformat_minor": 4
}
