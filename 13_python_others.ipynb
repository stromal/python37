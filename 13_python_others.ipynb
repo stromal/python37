{
 "cells": [
  {
   "cell_type": "markdown",
   "metadata": {},
   "source": [
    "# [13. Python Others](https://docs.python.org/3/tutorial/whatnow.html)\n",
    "- [ALL Python Modules](https://docs.python.org/3/py-modindex.html)\n",
    "- [Installing Python Modules](https://docs.python.org/3/installing/index.html#installing-index)\n",
    "- [Distributing Own New Python Modules](https://docs.python.org/3/distributing/index.html#distributing-index)\n",
    "- [Heavy Python Grammar](https://docs.python.org/3/reference/index.html#reference-index)\n",
    "- https://www.python.org: The major Python Web site. It contains code, documentation, and pointers to Python-related pages around the Web. This Web site is mirrored in various places around the world, such as Europe, Japan, and Australia; a mirror may be faster than the main site, depending on your geographical location.\n",
    "- https://docs.python.org: Fast access to Python’s documentation.\n",
    "- https://pypi.org: The Python Package Index, previously also nicknamed the Cheese Shop 1, is an index of user-created Python modules that are available for download. Once you begin releasing code, you can register it here so that others can find it.\n",
    "- https://code.activestate.com/recipes/langs/python/: The Python Cookbook is a sizable collection of code examples, larger modules, and useful scripts. Particularly notable contributions are collected in a book also titled Python Cookbook (O’Reilly & Associates, ISBN 0-596-00797-3.)\n",
    "- http://www.pyvideo.org collects links to Python-related videos from conferences and user-group meetings.\n",
    "- https://scipy.org: The Scientific Python project includes modules for fast array computations and manipulations plus a host of packages for such things as linear algebra, Fourier transforms, non-linear solvers, random number distributions, statistical analysis and the like.\n",
    "- MAILING LSIT: https://mail.python.org/pipermail/ to develope the language python-list@python.org\n",
    "    - [FAQ](https://docs.python.org/3/faq/index.html#faq-index)"
   ]
  }
 ],
 "metadata": {
  "kernelspec": {
   "display_name": "Python 3",
   "language": "python",
   "name": "python3"
  },
  "language_info": {
   "codemirror_mode": {
    "name": "ipython",
    "version": 3
   },
   "file_extension": ".py",
   "mimetype": "text/x-python",
   "name": "python",
   "nbconvert_exporter": "python",
   "pygments_lexer": "ipython3",
   "version": "3.7.4"
  }
 },
 "nbformat": 4,
 "nbformat_minor": 4
}
