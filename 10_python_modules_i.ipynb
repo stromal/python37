{
 "cells": [
  {
   "cell_type": "markdown",
   "metadata": {},
   "source": [
    "# [10. Python Basic Modules I.](https://docs.python.org/3/tutorial/stdlib.html)\n",
    "## 10.1. `OS` - Operating System Interface"
   ]
  },
  {
   "cell_type": "code",
   "execution_count": 275,
   "metadata": {},
   "outputs": [
    {
     "data": {
      "text/plain": [
       "'D:\\\\gd\\\\code_on\\\\study\\\\01.1_python_tutorial_official_3.7'"
      ]
     },
     "execution_count": 275,
     "metadata": {},
     "output_type": "execute_result"
    }
   ],
   "source": [
    "import os\n",
    "mychdir = os.getcwd()      # Return the current working directory\n",
    "os.getcwd()"
   ]
  },
  {
   "cell_type": "code",
   "execution_count": 276,
   "metadata": {},
   "outputs": [
    {
     "data": {
      "text/plain": [
       "0"
      ]
     },
     "execution_count": 276,
     "metadata": {},
     "output_type": "execute_result"
    }
   ],
   "source": [
    "# Change current working directory\n",
    "#XXXXX os.chdir('/Users/macbookair13/Google\\ Drive/#\\ Job/00\\ Study/Python/python_tutorial_official_3.7/new_folder')\n",
    "os.chdir( mychdir )\n",
    "\n",
    "os.system('mkdir today')\n",
    "os.system('mkdir today\\hello_today')   # Run the command mkdir in the system shell (cretes a directory)"
   ]
  },
  {
   "cell_type": "raw",
   "metadata": {},
   "source": [
    "import os\n",
    "dir(os)"
   ]
  },
  {
   "cell_type": "raw",
   "metadata": {},
   "source": [
    "help(os)"
   ]
  },
  {
   "cell_type": "markdown",
   "metadata": {},
   "source": [
    "### `shutil` - file and directory management tasks"
   ]
  },
  {
   "cell_type": "code",
   "execution_count": 277,
   "metadata": {},
   "outputs": [
    {
     "data": {
      "text/plain": [
       "'archive.txt'"
      ]
     },
     "execution_count": 277,
     "metadata": {},
     "output_type": "execute_result"
    }
   ],
   "source": [
    "import shutil #file and directory management tasks\n",
    "\n",
    "# myfile.txt -[content copy]-> archive\n",
    "shutil.copyfile('myfile.txt', 'archive.txt')"
   ]
  },
  {
   "cell_type": "code",
   "execution_count": 278,
   "metadata": {},
   "outputs": [
    {
     "data": {
      "text/plain": [
       "'band_new\\\\hello_today'"
      ]
     },
     "execution_count": 278,
     "metadata": {},
     "output_type": "execute_result"
    }
   ],
   "source": [
    "#today/hello_today folder -[move]-> brand_new folder\n",
    "shutil.move('today/hello_today', 'band_new')"
   ]
  },
  {
   "cell_type": "markdown",
   "metadata": {},
   "source": [
    "## 10.2. List out Files\n",
    "`glob` module: directory wildcard searches -> file lists "
   ]
  },
  {
   "cell_type": "code",
   "execution_count": 279,
   "metadata": {},
   "outputs": [
    {
     "data": {
      "text/plain": [
       "['fibo.py']"
      ]
     },
     "execution_count": 279,
     "metadata": {},
     "output_type": "execute_result"
    }
   ],
   "source": [
    "import glob\n",
    "glob.glob('*.py')"
   ]
  },
  {
   "cell_type": "markdown",
   "metadata": {},
   "source": [
    "## 10.3. Command Line Arguments\n",
    "`sys` -  utility scripts often need to process command line arguments"
   ]
  },
  {
   "cell_type": "raw",
   "metadata": {},
   "source": [
    "import sys\n",
    "print(sys.argv)\n",
    "\n",
    "'''\n",
    "it sould have printed out:\n",
    "['demo.py', 'one', 'two', 'three']\n",
    "\n",
    "instead:\n",
    "['/Users/macbookair13/anaconda3/lib/python3.7/site-packages/ipykernel_launcher.py', '-f',\n",
    "'/Users/macbookair13/Library/Jupyter/runtime/kernel-852f43cc-8390-48bd-b941-83df4240ec53.json']\n",
    "'''"
   ]
  },
  {
   "cell_type": "raw",
   "metadata": {},
   "source": [
    "import argparse\n",
    "from getpass import getuser\n",
    "parser = argparse.ArgumentParser(description='An argparse example.')\n",
    "parser.add_argument('name', nargs='?', default=getuser(), help='The name of someone to greet.')\n",
    "parser.add_argument('--verbose', '-v', action='count')\n",
    "args = parser.parse_args()\n",
    "greeting = [\"Hi\", \"Hello\", \"Greetings! its very nice to meet you\"][args.verbose % 3]\n",
    "print(f'{greeting}, {args.name}')\n",
    "if not args.verbose:\n",
    "    print('Try running this again with multiple \"-v\" flags!')\n",
    "    \n",
    "'''\n",
    "usage: ipykernel_launcher.py [-h] [--verbose] [name]\n",
    "ipykernel_launcher.py: error: unrecognized arguments: -f\n",
    "An exception has occurred, use %tb to see the full traceback.\n",
    "\n",
    "SystemExit: 2\n",
    "'''"
   ]
  },
  {
   "cell_type": "markdown",
   "metadata": {},
   "source": [
    "## 10.4. Error Output Redirection -> Program Termination\n",
    "`sys` module\n",
    "\n",
    "`stdin`, `stdout`, `stderr` attributes"
   ]
  },
  {
   "cell_type": "code",
   "execution_count": 280,
   "metadata": {},
   "outputs": [
    {
     "name": "stderr",
     "output_type": "stream",
     "text": [
      "Warning, log file not found starting a new one\n"
     ]
    }
   ],
   "source": [
    "sys.stderr.write('Warning, log file not found starting a new one\\n')"
   ]
  },
  {
   "cell_type": "markdown",
   "metadata": {},
   "source": [
    "## 10.5. String Pattern Matching\n",
    "`re` - [regular expression tools for advanced string processing](https://docs.python.org/3/library/re.html#module-re)\n",
    "- grammatic correctios\n",
    "- repeted workd correction in a sentence\n",
    "- replace works by pattern matching"
   ]
  },
  {
   "cell_type": "code",
   "execution_count": 281,
   "metadata": {},
   "outputs": [
    {
     "data": {
      "text/plain": [
       "['foot', 'fell', 'fastest']"
      ]
     },
     "execution_count": 281,
     "metadata": {},
     "output_type": "execute_result"
    }
   ],
   "source": [
    "import re\n",
    "re.findall(r'\\bf[a-z]*', 'which foot or hand fell fastest')"
   ]
  },
  {
   "cell_type": "code",
   "execution_count": 282,
   "metadata": {},
   "outputs": [
    {
     "data": {
      "text/plain": [
       "'cat in the hat'"
      ]
     },
     "execution_count": 282,
     "metadata": {},
     "output_type": "execute_result"
    }
   ],
   "source": [
    "re.sub(r'(\\b[a-z]+) \\1', r'\\1', 'cat in the the hat') #"
   ]
  },
  {
   "cell_type": "code",
   "execution_count": 283,
   "metadata": {},
   "outputs": [
    {
     "data": {
      "text/plain": [
       "'tea for two'"
      ]
     },
     "execution_count": 283,
     "metadata": {},
     "output_type": "execute_result"
    }
   ],
   "source": [
    "#            replace this-[to]->this\n",
    "'tea for too'.replace('too', 'two')"
   ]
  },
  {
   "cell_type": "markdown",
   "metadata": {},
   "source": [
    "## 10.6. Mathematics\n",
    "\n",
    "### OTHERS -> [SciPy](https://scipy.org/) , [COOKBOOK](https://scipy-cookbook.readthedocs.io/index.html)\n",
    "- [NumPy: Base N-dimensional array package](https://numpy.org/)\n",
    "- [SciPy: Fundamental library for scientific computing](https://scipy.org/scipylib/index.html)\n",
    "- [Matplotlib: Comprehensive 2D Plotting](https://matplotlib.org/)\n",
    "- [IPython: Enhanced Interactive Console](http://ipython.org/)\n",
    "- [Sympy: Symbolic mathematics](https://www.sympy.org/en/index.html)\n",
    "- [Pandas: Data structures & analysis](https://pandas.pydata.org/)\n",
    "\n",
    "`math` [module - C library functions](https://docs.python.org/3/library/math.html#module-math)"
   ]
  },
  {
   "cell_type": "code",
   "execution_count": 284,
   "metadata": {},
   "outputs": [
    {
     "data": {
      "text/plain": [
       "0.7071067811865476"
      ]
     },
     "execution_count": 284,
     "metadata": {},
     "output_type": "execute_result"
    }
   ],
   "source": [
    "import math\n",
    "math.cos(math.pi / 4)"
   ]
  },
  {
   "cell_type": "code",
   "execution_count": 285,
   "metadata": {},
   "outputs": [
    {
     "data": {
      "text/plain": [
       "10.0"
      ]
     },
     "execution_count": 285,
     "metadata": {},
     "output_type": "execute_result"
    }
   ],
   "source": [
    "math.log(1024, 2)"
   ]
  },
  {
   "cell_type": "markdown",
   "metadata": {},
   "source": [
    "### `random`  [Library - random slections](https://docs.python.org/3/library/random.html#module-random)"
   ]
  },
  {
   "cell_type": "code",
   "execution_count": 286,
   "metadata": {},
   "outputs": [
    {
     "data": {
      "text/plain": [
       "'banana'"
      ]
     },
     "execution_count": 286,
     "metadata": {},
     "output_type": "execute_result"
    }
   ],
   "source": [
    "import random\n",
    "random.choice(['apple', 'pear', 'banana'])"
   ]
  },
  {
   "cell_type": "code",
   "execution_count": 287,
   "metadata": {},
   "outputs": [
    {
     "data": {
      "text/plain": [
       "[61, 28, 38, 21, 42, 93, 1, 10, 64, 29]"
      ]
     },
     "execution_count": 287,
     "metadata": {},
     "output_type": "execute_result"
    }
   ],
   "source": [
    "random.sample(range(100), 10)   # sampling without replacement"
   ]
  },
  {
   "cell_type": "code",
   "execution_count": 288,
   "metadata": {},
   "outputs": [
    {
     "data": {
      "text/plain": [
       "0.41113559435745617"
      ]
     },
     "execution_count": 288,
     "metadata": {},
     "output_type": "execute_result"
    }
   ],
   "source": [
    "random.random()    # random float"
   ]
  },
  {
   "cell_type": "code",
   "execution_count": 289,
   "metadata": {},
   "outputs": [
    {
     "data": {
      "text/plain": [
       "0"
      ]
     },
     "execution_count": 289,
     "metadata": {},
     "output_type": "execute_result"
    }
   ],
   "source": [
    "random.randrange(6)    # random integer chosen from range(6)"
   ]
  },
  {
   "cell_type": "markdown",
   "metadata": {},
   "source": [
    "### `statistics` [Library ex.: mean, median, varianc](https://docs.python.org/3/library/statistics.html#module-statistics)"
   ]
  },
  {
   "cell_type": "code",
   "execution_count": 290,
   "metadata": {},
   "outputs": [
    {
     "data": {
      "text/plain": [
       "1.6071428571428572"
      ]
     },
     "execution_count": 290,
     "metadata": {},
     "output_type": "execute_result"
    }
   ],
   "source": [
    "import statistics\n",
    "data = [2.75, 1.75, 1.25, 0.25, 0.5, 1.25, 3.5]\n",
    "statistics.mean(data)"
   ]
  },
  {
   "cell_type": "code",
   "execution_count": 291,
   "metadata": {},
   "outputs": [
    {
     "data": {
      "text/plain": [
       "1.25"
      ]
     },
     "execution_count": 291,
     "metadata": {},
     "output_type": "execute_result"
    }
   ],
   "source": [
    "statistics.median(data)"
   ]
  },
  {
   "cell_type": "code",
   "execution_count": 292,
   "metadata": {},
   "outputs": [
    {
     "data": {
      "text/plain": [
       "1.3720238095238095"
      ]
     },
     "execution_count": 292,
     "metadata": {},
     "output_type": "execute_result"
    }
   ],
   "source": [
    "statistics.variance(data)"
   ]
  },
  {
   "cell_type": "markdown",
   "metadata": {},
   "source": [
    "## 10.7. Internet Access\n",
    "\n",
    "`urllib.request` - [retrieving data from URLs](https://docs.python.org/3/library/urllib.request.html#module-urllib.request)\n",
    "\n",
    "[more examples](https://docs.python.org/3/howto/urllib2.html)"
   ]
  },
  {
   "cell_type": "raw",
   "metadata": {},
   "source": [
    "from urllib.request import urlopen\n",
    "# original URL in example ded website - http://tycho.usno.navy.mil/cgi-bin/timer.pl\n",
    "with urlopen('http://tycho.usno.navy.mil/cgi-bin/timer.pl') as response:\n",
    "    for line in response:\n",
    "        line = line.decode('utf-8')  # Decoding the binary data to text.\n",
    "        if 'EST' in line or 'EDT' in line:  # look for Eastern Time\n",
    "            print(line)\n",
    "\n",
    "OUTPUT: <BR>Nov. 25, 09:43:32 PM EST"
   ]
  },
  {
   "cell_type": "markdown",
   "metadata": {},
   "source": [
    "`smtplib` - [sending mail](https://docs.python.org/3/library/smtplib.html#module-smtplib) needs a mailserver running on localhost."
   ]
  },
  {
   "cell_type": "raw",
   "metadata": {},
   "source": [
    "import smtplib\n",
    "server = smtplib.SMTP('localhost')\n",
    "server.sendmail('soothsayer@example.org', 'jcaesar@example.org',\n",
    "\"\"\"To: jcaesar@example.org\n",
    "From: soothsayer@example.org\n",
    "\n",
    "Beware the Ides of March.\n",
    "\"\"\")\n",
    "server.quit()"
   ]
  },
  {
   "cell_type": "markdown",
   "metadata": {},
   "source": [
    "## 10.8. [datetime module](https://docs.python.org/3/library/datetime.html#module-datetime)"
   ]
  },
  {
   "cell_type": "code",
   "execution_count": 293,
   "metadata": {},
   "outputs": [
    {
     "data": {
      "text/plain": [
       "datetime.date(2020, 8, 14)"
      ]
     },
     "execution_count": 293,
     "metadata": {},
     "output_type": "execute_result"
    }
   ],
   "source": [
    "# dates are easily constructed and formatted\n",
    "from datetime import date\n",
    "now = date.today()\n",
    "now"
   ]
  },
  {
   "cell_type": "code",
   "execution_count": 294,
   "metadata": {},
   "outputs": [
    {
     "data": {
      "text/plain": [
       "'08-14-20. 14 Aug 2020 is a Friday on the 14 day of August.'"
      ]
     },
     "execution_count": 294,
     "metadata": {},
     "output_type": "execute_result"
    }
   ],
   "source": [
    "now.strftime(\"%m-%d-%y. %d %b %Y is a %A on the %d day of %B.\")"
   ]
  },
  {
   "cell_type": "code",
   "execution_count": 295,
   "metadata": {},
   "outputs": [
    {
     "data": {
      "text/plain": [
       "20468"
      ]
     },
     "execution_count": 295,
     "metadata": {},
     "output_type": "execute_result"
    }
   ],
   "source": [
    "# dates support calendar arithmetic\n",
    "birthday = date(1964, 7, 31)\n",
    "age = now - birthday\n",
    "age.days"
   ]
  },
  {
   "cell_type": "markdown",
   "metadata": {},
   "source": [
    "## 10.9. Data Compression\n",
    "directly supported:\n",
    "- [zlib](https://docs.python.org/3/library/zlib.html#module-zlib)\n",
    "- [gzip](https://docs.python.org/3/library/gzip.html#module-gzip)\n",
    "- [bz2](https://docs.python.org/3/library/bz2.html#module-bz2)\n",
    "- [lzma](https://docs.python.org/3/library/lzma.html#module-lzma)\n",
    "- [zip](https://docs.python.org/3/library/zipfile.html#module-zipfile)\n",
    "- [tar](https://docs.python.org/3/library/tarfile.html#module-tarfile)"
   ]
  },
  {
   "cell_type": "code",
   "execution_count": 296,
   "metadata": {},
   "outputs": [
    {
     "data": {
      "text/plain": [
       "41"
      ]
     },
     "execution_count": 296,
     "metadata": {},
     "output_type": "execute_result"
    }
   ],
   "source": [
    "import zlib\n",
    "s = b'witch which has which witches wrist watch'\n",
    "len(s)"
   ]
  },
  {
   "cell_type": "code",
   "execution_count": 297,
   "metadata": {},
   "outputs": [
    {
     "data": {
      "text/plain": [
       "37"
      ]
     },
     "execution_count": 297,
     "metadata": {},
     "output_type": "execute_result"
    }
   ],
   "source": [
    "t = zlib.compress(s)\n",
    "len(t)"
   ]
  },
  {
   "cell_type": "code",
   "execution_count": 298,
   "metadata": {},
   "outputs": [
    {
     "data": {
      "text/plain": [
       "b'witch which has which witches wrist watch'"
      ]
     },
     "execution_count": 298,
     "metadata": {},
     "output_type": "execute_result"
    }
   ],
   "source": [
    "zlib.decompress(t)"
   ]
  },
  {
   "cell_type": "code",
   "execution_count": 299,
   "metadata": {},
   "outputs": [
    {
     "data": {
      "text/plain": [
       "226805979"
      ]
     },
     "execution_count": 299,
     "metadata": {},
     "output_type": "execute_result"
    }
   ],
   "source": [
    "zlib.crc32(s)"
   ]
  },
  {
   "cell_type": "markdown",
   "metadata": {},
   "source": [
    "## 10.10. Performance Measurement\n",
    "[`timeit`](https://docs.python.org/3/library/timeit.html#module-timeit)"
   ]
  },
  {
   "cell_type": "code",
   "execution_count": 300,
   "metadata": {},
   "outputs": [
    {
     "data": {
      "text/plain": [
       "0.04669704300000177"
      ]
     },
     "execution_count": 300,
     "metadata": {},
     "output_type": "execute_result"
    }
   ],
   "source": [
    "from timeit import Timer\n",
    "Timer('t=a; a=b; b=t', 'a=1; b=2').timeit()"
   ]
  },
  {
   "cell_type": "code",
   "execution_count": 301,
   "metadata": {},
   "outputs": [
    {
     "data": {
      "text/plain": [
       "0.06137431999999876"
      ]
     },
     "execution_count": 301,
     "metadata": {},
     "output_type": "execute_result"
    }
   ],
   "source": [
    "Timer('a,b = b,a', 'a=1; b=2').timeit()"
   ]
  },
  {
   "cell_type": "markdown",
   "metadata": {},
   "source": [
    "## 10.11. Quality Control\n",
    "`doctest` - [module provides a tool for scanning a module and validating tests embedded in a program’s docstrings.](https://docs.python.org/3/library/doctest.html#module-doctest)"
   ]
  },
  {
   "cell_type": "code",
   "execution_count": 302,
   "metadata": {},
   "outputs": [
    {
     "data": {
      "text/plain": [
       "TestResults(failed=0, attempted=1)"
      ]
     },
     "execution_count": 302,
     "metadata": {},
     "output_type": "execute_result"
    }
   ],
   "source": [
    "def average(values):\n",
    "    \"\"\"Computes the arithmetic mean of a list of numbers.\n",
    "\n",
    "    >>> print(average([20, 30, 70]))\n",
    "    40.0\n",
    "    \"\"\"\n",
    "    return sum(values) / len(values)\n",
    "\n",
    "import doctest\n",
    "doctest.testmod()   # automatically validate the embedded tests"
   ]
  },
  {
   "cell_type": "markdown",
   "metadata": {},
   "source": [
    "`unittest` - [more comprehensive set of tests to be maintained in a separate file](https://docs.python.org/3/library/unittest.html#module-unittest)"
   ]
  },
  {
   "cell_type": "raw",
   "metadata": {},
   "source": [
    "import unittest\n",
    "\n",
    "class TestStatisticalFunctions(unittest.TestCase):\n",
    "\n",
    "    def test_average(self):\n",
    "        self.assertEqual(average([20, 30, 70]), 40.0)\n",
    "        self.assertEqual(round(average([1, 5, 7]), 1), 4.3)\n",
    "        with self.assertRaises(ZeroDivisionError):\n",
    "            average([])\n",
    "        with self.assertRaises(TypeError):\n",
    "            average(20, 30, 70)\n",
    "\n",
    "unittest.main()  # Calling from the command line invokes all tests"
   ]
  },
  {
   "cell_type": "markdown",
   "metadata": {},
   "source": [
    "## 10.12. Other Useful Moduls\n",
    "`xmlrpc.client` [modules](https://docs.python.org/3/library/xmlrpc.client.html#module-xmlrpc.client)\n",
    "\n",
    "`xmlrpc.server` [modules](https://docs.python.org/3/library/xmlrpc.server.html#module-xmlrpc.server)\n",
    "- remote procedure call\n",
    "- no direct knowledge or handling of XML is needed\n",
    "\n",
    "`email` [package](https://docs.python.org/3/library/email.html#module-email)\n",
    "- managing email messages, \n",
    "- including MIME and other RFC 2822-based message documents. \n",
    "- Unlike smtplib and poplib which actually send and receive messages, \n",
    "- the email package has a complete toolset for building or decoding complex message structures (including attachments)\n",
    "- for implementing internet encoding and header protocols.\n",
    "\n",
    "`json` [package](https://docs.python.org/3/library/json.html#module-json) \n",
    "- parsing this popular data interchange format. \n",
    "- csv module supports direct reading and writing of files in Comma-Separated Value format\n",
    "    - supported by databases and spreadsheets. \n",
    "- XML processing is supported by the xml.etree.ElementTree, xml.dom and xml.sax packages. \n",
    "- data interchange between Python applications and other tools.\n",
    "\n",
    "`sqlite3` [module](https://docs.python.org/3/library/sqlite3.html#module-sqlite3)\n",
    "- wrapper for the __SQLite__ database library, \n",
    "- providing a persistent database \n",
    "- updated and accessed using slightly nonstandard SQL syntax.\n",
    "\n",
    "__Internationalization modules__\n",
    "- [gettext](https://docs.python.org/3/library/gettext.html#module-gettext)\n",
    "- [locale](https://docs.python.org/3/library/locale.html#module-locale)\n",
    "- [codecs](https://docs.python.org/3/library/codecs.html#module-codecs)"
   ]
  }
 ],
 "metadata": {
  "kernelspec": {
   "display_name": "Python 3",
   "language": "python",
   "name": "python3"
  },
  "language_info": {
   "codemirror_mode": {
    "name": "ipython",
    "version": 3
   },
   "file_extension": ".py",
   "mimetype": "text/x-python",
   "name": "python",
   "nbconvert_exporter": "python",
   "pygments_lexer": "ipython3",
   "version": "3.7.4"
  }
 },
 "nbformat": 4,
 "nbformat_minor": 4
}
