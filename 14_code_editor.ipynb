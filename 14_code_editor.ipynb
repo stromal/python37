{
 "cells": [
  {
   "cell_type": "markdown",
   "metadata": {},
   "source": [
    "# [14. Code Editor](https://docs.python.org/3/tutorial/interactive.html)\n",
    "- [__IPython__](https://ipython.org/)\n",
    "    - A powerful interactive shell.\n",
    "    - A kernel for [__Jupyter__](https://jupyter.org)\n",
    "    - Support for interactive data visualization and use of GUI toolkits.\n",
    "    - Flexible, embeddable interpreters to load into your own projects.\n",
    "    - Easy to use, high performance tools for parallel computing.\n",
    "- [bpython](https://bpython-interpreter.org/)\n",
    "    - In-line syntax highlighting\n",
    "    - Readline-like autocomplete with suggestions displayed as you type.\n",
    "    - Expected parameter list for any Python function.\n",
    "    - \"Rewind\" function to pop the last line of code from memory and re-evaluate.\n",
    "    - Send the code you've entered off to a pastebin.\n",
    "    - Save the code you've entered to a file.\n",
    "    - Auto-indentation.\n",
    "    - Python 3 support."
   ]
  }
 ],
 "metadata": {
  "kernelspec": {
   "display_name": "Python 3",
   "language": "python",
   "name": "python3"
  },
  "language_info": {
   "codemirror_mode": {
    "name": "ipython",
    "version": 3
   },
   "file_extension": ".py",
   "mimetype": "text/x-python",
   "name": "python",
   "nbconvert_exporter": "python",
   "pygments_lexer": "ipython3",
   "version": "3.7.4"
  }
 },
 "nbformat": 4,
 "nbformat_minor": 4
}
